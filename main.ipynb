{
 "cells": [
  {
   "cell_type": "code",
   "execution_count": 3,
   "metadata": {},
   "outputs": [],
   "source": [
    "import tensorflow as tf\n",
    "import numpy as np\n",
    "import pandas as pd"
   ]
  },
  {
   "cell_type": "code",
   "execution_count": 4,
   "metadata": {},
   "outputs": [
    {
     "name": "stdout",
     "output_type": "stream",
     "text": [
      "Found 8005 files belonging to 2 classes.\n",
      "Using 7205 files for training.\n"
     ]
    }
   ],
   "source": [
    "train_data = tf.keras.utils.image_dataset_from_directory(\n",
    "    'dataset/training',\n",
    "    validation_split=0.1,  \n",
    "    subset=\"training\",     \n",
    "    seed=42,               \n",
    "    image_size=(224, 224), \n",
    "    batch_size=32          \n",
    ")\n"
   ]
  },
  {
   "cell_type": "code",
   "execution_count": 8,
   "metadata": {},
   "outputs": [
    {
     "name": "stdout",
     "output_type": "stream",
     "text": [
      "Found 8005 files belonging to 2 classes.\n",
      "Using 800 files for validation.\n"
     ]
    }
   ],
   "source": [
    "valid_data = tf.keras.utils.image_dataset_from_directory(\n",
    "    'dataset/training',\n",
    "    validation_split=0.1,  \n",
    "    subset=\"validation\",   \n",
    "    seed=42,               \n",
    "    image_size=(224, 224), \n",
    "    batch_size=32          \n",
    ")\n"
   ]
  },
  {
   "cell_type": "code",
   "execution_count": null,
   "metadata": {},
   "outputs": [],
   "source": [
    "data_iterator = train_data.as_numpy_iterator()\n",
    "batch = data_iterator.next()\n"
   ]
  },
  {
   "cell_type": "code",
   "execution_count": 10,
   "metadata": {},
   "outputs": [],
   "source": [
    "def normalizer(image, label):\n",
    "    aux = tf.cast(image, dtype=tf.float32)\n",
    "    image_norm = aux/255.0\n",
    "    return image_norm, label\n",
    "\n",
    "X_train = train_data.map(normalizer)\n",
    "X_valid = valid_data.map(normalizer) \n",
    "    "
   ]
  }
 ],
 "metadata": {
  "kernelspec": {
   "display_name": "Python 3",
   "language": "python",
   "name": "python3"
  },
  "language_info": {
   "codemirror_mode": {
    "name": "ipython",
    "version": 3
   },
   "file_extension": ".py",
   "mimetype": "text/x-python",
   "name": "python",
   "nbconvert_exporter": "python",
   "pygments_lexer": "ipython3",
   "version": "3.12.3"
  }
 },
 "nbformat": 4,
 "nbformat_minor": 2
}
